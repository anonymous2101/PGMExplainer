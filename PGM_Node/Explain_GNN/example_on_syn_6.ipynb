{
 "cells": [
  {
   "cell_type": "code",
   "execution_count": 4,
   "metadata": {},
   "outputs": [],
   "source": [
    "import utils\n",
    "import models\n",
    "import numpy as np\n",
    "import torch\n",
    "import configs\n",
    "import pgm_explainer as pe\n",
    "from scipy.special import softmax\n",
    "import pandas as pd\n",
    "from pgmpy.estimators.CITests import chi_square\n",
    "from pgmpy.estimators import HillClimbSearch, BicScore\n",
    "from pgmpy.models import BayesianModel\n",
    "from pgmpy.inference import VariableElimination\n",
    "\n",
    "import argparse\n",
    "    \n",
    "def arg_parse():\n",
    "    parser = argparse.ArgumentParser(description=\"GNN Explainer arguments.\")\n",
    "\n",
    "    parser.add_argument(\n",
    "            \"--bmname\", dest=\"bmname\", help=\"Name of the benchmark dataset\"\n",
    "        )\n",
    "    parser.add_argument(\"--dataset\", dest=\"dataset\", help=\"Input dataset.\")\n",
    "    parser.add_argument(\"--ckptdir\", dest=\"ckptdir\", help=\"Model checkpoint directory\")\n",
    "    parser.add_argument(\n",
    "            \"--gpu\",\n",
    "            dest=\"gpu\",\n",
    "            action=\"store_const\",\n",
    "            const=True,\n",
    "            default=False,\n",
    "            help=\"whether to use GPU.\",\n",
    "        )\n",
    "    parser.add_argument(\n",
    "            \"--node-start\", dest=\"node_start\", type=int, help=\"Index of starting node.\"\n",
    "        )\n",
    "    parser.add_argument(\n",
    "            \"--node-end\", dest=\"node_end\", type=int, help=\"Index of ending node.\"\n",
    "        )\n",
    "    parser.add_argument(\n",
    "            \"--num-perturb-samples\", dest=\"num_perturb_samples\", type=int, help=\"Number of perturbed sample using to generate explanations.\"\n",
    "        )\n",
    "    parser.add_argument(\n",
    "            \"--top-node\", dest=\"top_node\", type=int, help=\"Number of nodes in explanation.\"\n",
    "        )\n",
    "    parser.add_argument(\n",
    "            \"--epochs\", dest=\"num_epochs\", type=int, help=\"Number of epochs to train.\"\n",
    "        )\n",
    "    parser.add_argument(\n",
    "            \"--hidden-dim\", dest=\"hidden_dim\", type=int, help=\"Hidden dimension\"\n",
    "        )\n",
    "    parser.add_argument(\n",
    "            \"--output-dim\", dest=\"output_dim\", type=int, help=\"Output dimension\"\n",
    "        )\n",
    "    parser.add_argument(\n",
    "            \"--num-gc-layers\",\n",
    "            dest=\"num_gc_layers\",\n",
    "            type=int,\n",
    "            help=\"Number of graph convolution layers before each pooling\",\n",
    "        )\n",
    "    parser.add_argument(\n",
    "            \"--bn\",\n",
    "            dest=\"bn\",\n",
    "            action=\"store_const\",\n",
    "            const=True,\n",
    "            default=False,\n",
    "            help=\"Whether batch normalization is used\",\n",
    "        )\n",
    "    parser.add_argument(\"--dropout\", dest=\"dropout\", type=float, help=\"Dropout rate.\")\n",
    "    parser.add_argument(\n",
    "            \"--method\", dest=\"method\", type=str, help=\"Method. Possible values: base, att.\"\n",
    "        )\n",
    "    parser.add_argument(\n",
    "            \"--nobias\",\n",
    "            dest=\"bias\",\n",
    "            action=\"store_const\",\n",
    "            const=False,\n",
    "            default=True,\n",
    "            help=\"Whether to add bias. Default to True.\",\n",
    "        )\n",
    "    \n",
    "        # Explainer\n",
    "   \n",
    "    \n",
    "\n",
    "    parser.set_defaults(\n",
    "            ckptdir=None,\n",
    "            dataset=\"syn1\",\n",
    "            opt=\"adam\",  \n",
    "            opt_scheduler=\"none\",\n",
    "            lr=0.1,\n",
    "            clip=2.0,\n",
    "            batch_size=20,\n",
    "            num_epochs=100,\n",
    "            hidden_dim=20,\n",
    "            output_dim=20,\n",
    "            num_gc_layers=3,\n",
    "            method=\"base\",\n",
    "            dropout=0.0,\n",
    "            node_start = None,\n",
    "            node_end = None,\n",
    "            num_perturb_samples = 100,\n",
    "            top_node = None\n",
    "        )\n",
    "    \n",
    "    return parser"
   ]
  },
  {
   "cell_type": "code",
   "execution_count": 5,
   "metadata": {},
   "outputs": [],
   "source": [
    "prog_args = arg_parse()\n",
    "args= prog_args.parse_args(['--dataset','syn6','--num-perturb-samples', '2000','--top-node', '5'])"
   ]
  },
  {
   "cell_type": "code",
   "execution_count": 6,
   "metadata": {},
   "outputs": [
    {
     "name": "stdout",
     "output_type": "stream",
     "text": [
      "loading model\n",
      "../Train_GNN_model/ckpt/syn6.pth.tar\n",
      "=> loading checkpoint '../Train_GNN_model/ckpt/syn6.pth.tar'\n",
      "input dim:  10 ; num classes:  4\n"
     ]
    }
   ],
   "source": [
    "A, X = utils.load_XA(args.dataset, datadir = \"../Generate_XA_Data/XAL\")\n",
    "L = utils.load_labels(args.dataset, datadir = \"../Generate_XA_Data/XAL\")\n",
    "num_classes = max(L) + 1\n",
    "input_dim = X.shape[1]\n",
    "num_nodes = X.shape[0]\n",
    "ckpt = utils.load_ckpt(args)\n",
    "\n",
    "print(\"input dim: \", input_dim, \"; num classes: \", num_classes)\n",
    "    \n",
    "model = models.GcnEncoderNode(\n",
    "        input_dim=input_dim,\n",
    "        hidden_dim=args.hidden_dim,\n",
    "        embedding_dim=args.output_dim,\n",
    "        label_dim=num_classes,\n",
    "        num_layers=args.num_gc_layers,\n",
    "        bn=args.bn,\n",
    "        args=args,\n",
    "        )\n",
    "model.load_state_dict(ckpt[\"model_state\"]) \n",
    "pred = ckpt[\"save_data\"][\"pred\"]"
   ]
  },
  {
   "cell_type": "code",
   "execution_count": 8,
   "metadata": {},
   "outputs": [],
   "source": [
    "nodes_to_explain = list(range(300,700))"
   ]
  },
  {
   "cell_type": "code",
   "execution_count": 13,
   "metadata": {},
   "outputs": [],
   "source": [
    "target = 304"
   ]
  },
  {
   "cell_type": "code",
   "execution_count": 12,
   "metadata": {},
   "outputs": [
    {
     "name": "stdout",
     "output_type": "stream",
     "text": [
      "Explainer settings\n",
      "\\ A dim:  (700, 700)\n",
      "\\ X dim:  (700, 10)\n",
      "\\ Number of layers:  3\n",
      "\\ Perturbation mode:  0\n",
      "\\ Print result:  1\n"
     ]
    }
   ],
   "source": [
    "explainer = pe.Node_Explainer(model, A, X, pred, 3)"
   ]
  },
  {
   "cell_type": "code",
   "execution_count": 49,
   "metadata": {},
   "outputs": [
    {
     "name": "stdout",
     "output_type": "stream",
     "text": [
      "Explaining node: 304\n"
     ]
    }
   ],
   "source": [
    "subnodes, data, stats = explainer.explain(target, num_samples = 800, top_node = 5, pred_threshold = 0.2)"
   ]
  },
  {
   "cell_type": "code",
   "execution_count": 51,
   "metadata": {},
   "outputs": [
    {
     "name": "stdout",
     "output_type": "stream",
     "text": [
      "[303, 304, 302, 301, 300]\n"
     ]
    }
   ],
   "source": [
    "print(subnodes)"
   ]
  },
  {
   "cell_type": "code",
   "execution_count": 52,
   "metadata": {},
   "outputs": [],
   "source": [
    "pgm_explanation = explainer.pgm_generate(target, data, stats, subnodes)"
   ]
  },
  {
   "cell_type": "code",
   "execution_count": 53,
   "metadata": {},
   "outputs": [
    {
     "name": "stdout",
     "output_type": "stream",
     "text": [
      "0.47206633588212776\n"
     ]
    }
   ],
   "source": [
    "marginal_prob = explainer.pgm_conditional_prob(target, pgm_explanation, [])\n",
    "print(marginal_prob)"
   ]
  },
  {
   "cell_type": "code",
   "execution_count": 132,
   "metadata": {},
   "outputs": [
    {
     "name": "stdout",
     "output_type": "stream",
     "text": [
      "0.6381500864429032\n",
      "0.7595921203279926\n",
      "0.8673613374155298\n",
      "0.9111111111111111\n"
     ]
    }
   ],
   "source": [
    "p_a = explainer.pgm_conditional_prob(target, pgm_explanation, [300])\n",
    "p_ab = explainer.pgm_conditional_prob(target, pgm_explanation, [300, 301])\n",
    "p_abc = explainer.pgm_conditional_prob(target, pgm_explanation, [300, 301, 302])\n",
    "p_abcd = explainer.pgm_conditional_prob(target, pgm_explanation, [300, 301, 302, 303])\n",
    "print(p_a)\n",
    "print(p_ab)\n",
    "print(p_abc)\n",
    "print(p_abcd)"
   ]
  },
  {
   "cell_type": "code",
   "execution_count": 55,
   "metadata": {},
   "outputs": [
    {
     "data": {
      "image/png": "[encoded data removed]",
      "text/plain": [
       "<matplotlib.figure.Figure at 0x7f269c5619e8>"
      ]
     },
     "metadata": {},
     "output_type": "display_data"
    }
   ],
   "source": [
    "import networkx as nx\n",
    "import pylab as plt\n",
    "nx.draw(pgm_explanation, with_labels=True)\n",
    "plt.show()"
   ]
  },
  {
   "cell_type": "code",
   "execution_count": 56,
   "metadata": {},
   "outputs": [
    {
     "data": {
      "text/plain": [
       "{0: 1.649816289897675e-07,\n",
       " 5: 0.9147316562451875,\n",
       " 16: 0.5533663651474536,\n",
       " 60: 0.9888358617731342,\n",
       " 138: 0.9302264224365618,\n",
       " 155: 0.9769815253251757,\n",
       " 156: 0.8057748314049916,\n",
       " 161: 0.8779398590623545,\n",
       " 300: 3.4705308414173175e-17,\n",
       " 301: 2.147211912675945e-25,\n",
       " 302: 2.2477020010582806e-30,\n",
       " 303: 5.3198457326548645e-161,\n",
       " 304: 0.0,\n",
       " 405: 4.3028309689451087e-13}"
      ]
     },
     "execution_count": 56,
     "metadata": {},
     "output_type": "execute_result"
    }
   ],
   "source": [
    "stats"
   ]
  },
  {
   "cell_type": "code",
   "execution_count": null,
   "metadata": {},
   "outputs": [],
   "source": []
  },
  {
   "cell_type": "code",
   "execution_count": 114,
   "metadata": {},
   "outputs": [],
   "source": [
    "view_graph = nx.Graph()\n",
    "pos = {300: (0, 0), 301: (-5, -5), 302: (5, -5), 303: (5, 5), 304: (-5,5)}\n",
    "color = ['r','b','b','m','m']\n",
    "view_graph.add_nodes_from(pos.keys(), size=50)\n",
    "edges_list = [(300, 301),(301, 302),(302, 300),(303, 300),(304, 300)]\n",
    "view_graph.add_edges_from(edges_list)\n",
    "\n",
    "labels={}\n",
    "labels[300]=r'$A$'\n",
    "labels[301]=r'$B$'\n",
    "labels[302]=r'$C$'\n",
    "labels[303]=r'$D$'\n",
    "labels[304]=r'$E$'\n"
   ]
  },
  {
   "cell_type": "code",
   "execution_count": null,
   "metadata": {},
   "outputs": [],
   "source": []
  },
  {
   "cell_type": "code",
   "execution_count": 152,
   "metadata": {},
   "outputs": [
    {
     "data": {
      "image/png": "[encoded data removed]",
      "text/plain": [
       "<matplotlib.figure.Figure at 0x7f2664de24a8>"
      ]
     },
     "metadata": {},
     "output_type": "display_data"
    }
   ],
   "source": [
    "figure1, ax1 = plt.subplots(figsize = (4,4))\n",
    "ax1.axis('off')\n",
    "nx.draw_networkx_nodes(view_graph,pos,node_size=400,node_color= color)\n",
    "nx.draw_networkx_edges(view_graph,pos,\n",
    "                       edgelist= edges_list,\n",
    "                       width=2.0,alpha=1)\n",
    "nx.draw_networkx_edges(pgm_explanation,pos,\n",
    "                       edgelist= pgm_explanation.edges,\n",
    "                       connectionstyle='arc3, rad = 0.2',\n",
    "                       width=2.0,alpha=0)\n",
    "nx.draw_networkx_labels(view_graph,pos,labels,font_size=16, font_family = 'serif', \n",
    "                        font_weight  = 'bold',\n",
    "                        font_color = 'w')\n",
    "\n",
    "filename = 'view/motif_' + str(explained_node)+ '.jpg' \n",
    "figure1.savefig(filename, dpi=90, bbox_inches='tight')"
   ]
  },
  {
   "cell_type": "code",
   "execution_count": 184,
   "metadata": {},
   "outputs": [
    {
     "data": {
      "image/png": "[encoded data removed]",
      "text/plain": [
       "<matplotlib.figure.Figure at 0x7f265c7199b0>"
      ]
     },
     "metadata": {},
     "output_type": "display_data"
    }
   ],
   "source": [
    "color_ = ['m','b','b','r','m']\n",
    "\n",
    "figure2, ax = plt.subplots(figsize = (4,4))\n",
    "ax.axis('off')\n",
    "nx.draw_networkx_nodes(pgm_explanation,pos,node_size=400,node_color= color_)\n",
    "nx.draw_networkx_edges(pgm_explanation,pos,\n",
    "                       edgelist= pgm_explanation.edges,\n",
    "                       connectionstyle='arc3, rad = 0.2',\n",
    "                       width=2.0,alpha=0.8)\n",
    "nx.draw_networkx_labels(pgm_explanation,pos,labels,font_size=16, font_family = 'serif', font_color = 'w')\n",
    "plt.text(-6.5,-2.5, \"P(E) = 0.472\\n P(E|A) = 0.658\\n P(E|AB) = 0.760\\n P(E|ABC) = 0.867\\n P(E|ABCD) = 0.911\\n\"\n",
    "         , ha = 'right', wrap = True, fontsize=16)\n",
    "\n",
    "filename = 'view/pgm_' + str(explained_node)+ '.jpg' \n",
    "figure2.savefig(filename, dpi=90, bbox_inches='tight')"
   ]
  },
  {
   "cell_type": "code",
   "execution_count": null,
   "metadata": {},
   "outputs": [],
   "source": []
  },
  {
   "cell_type": "code",
   "execution_count": 185,
   "metadata": {},
   "outputs": [],
   "source": [
    "import numpy as np\n",
    "from dtit import dtit\n",
    "\n",
    "# Generate some data such that x is indpendent of y given z.\n",
    "n_samples = 1000\n",
    "z = np.random.dirichlet(alpha=np.ones(2), size=n_samples)\n",
    "x = np.vstack([np.random.multinomial(20, p) for p in z]).astype(float)\n",
    "y = np.vstack([np.random.multinomial(20, p) for p in z]).astype(float)\n",
    "\n",
    "# Check that x and y are dependent (p-value should be uniform on [0, 1]).\n",
    "pval_d = dtit.test(x, y)\n",
    "# Check that z d-separates x and y (the p-value should be small).\n",
    "pval_i = dtit.test(x, y, z)"
   ]
  },
  {
   "cell_type": "code",
   "execution_count": 186,
   "metadata": {},
   "outputs": [
    {
     "data": {
      "text/plain": [
       "1.8598407686033151e-07"
      ]
     },
     "execution_count": 186,
     "metadata": {},
     "output_type": "execute_result"
    }
   ],
   "source": [
    "pval_d"
   ]
  },
  {
   "cell_type": "code",
   "execution_count": 187,
   "metadata": {},
   "outputs": [
    {
     "data": {
      "text/plain": [
       "0.1806130415272221"
      ]
     },
     "execution_count": 187,
     "metadata": {},
     "output_type": "execute_result"
    }
   ],
   "source": [
    "pval_i"
   ]
  },
  {
   "cell_type": "code",
   "execution_count": null,
   "metadata": {},
   "outputs": [],
   "source": []
  },
  {
   "cell_type": "code",
   "execution_count": null,
   "metadata": {},
   "outputs": [],
   "source": []
  },
  {
   "cell_type": "code",
   "execution_count": null,
   "metadata": {},
   "outputs": [],
   "source": []
  },
  {
   "cell_type": "code",
   "execution_count": null,
   "metadata": {},
   "outputs": [],
   "source": []
  },
  {
   "cell_type": "code",
   "execution_count": null,
   "metadata": {},
   "outputs": [],
   "source": []
  }
 ],
 "metadata": {
  "kernelspec": {
   "display_name": "Python 3",
   "language": "python",
   "name": "python3"
  },
  "language_info": {
   "codemirror_mode": {
    "name": "ipython",
    "version": 3
   },
   "file_extension": ".py",
   "mimetype": "text/x-python",
   "name": "python",
   "nbconvert_exporter": "python",
   "pygments_lexer": "ipython3",
   "version": "3.6.7"
  }
 },
 "nbformat": 4,
 "nbformat_minor": 2
}
